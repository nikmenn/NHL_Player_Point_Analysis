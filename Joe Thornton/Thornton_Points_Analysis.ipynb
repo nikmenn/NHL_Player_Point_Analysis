{
 "cells": [
  {
   "cell_type": "code",
   "execution_count": 4,
   "metadata": {},
   "outputs": [],
   "source": [
    "import pandas as pd\n",
    "import numpy as np"
   ]
  },
  {
   "cell_type": "code",
   "execution_count": 3,
   "metadata": {},
   "outputs": [
    {
     "data": {
      "text/html": [
       "<div>\n",
       "<style scoped>\n",
       "    .dataframe tbody tr th:only-of-type {\n",
       "        vertical-align: middle;\n",
       "    }\n",
       "\n",
       "    .dataframe tbody tr th {\n",
       "        vertical-align: top;\n",
       "    }\n",
       "\n",
       "    .dataframe thead th {\n",
       "        text-align: right;\n",
       "    }\n",
       "</style>\n",
       "<table border=\"1\" class=\"dataframe\">\n",
       "  <thead>\n",
       "    <tr style=\"text-align: right;\">\n",
       "      <th></th>\n",
       "      <th>Points</th>\n",
       "      <th>Vs_Team</th>\n",
       "      <th>Home/Away</th>\n",
       "    </tr>\n",
       "  </thead>\n",
       "  <tbody>\n",
       "    <tr>\n",
       "      <th>0</th>\n",
       "      <td>0</td>\n",
       "      <td>COLORADO AVALANCHE</td>\n",
       "      <td>Away</td>\n",
       "    </tr>\n",
       "    <tr>\n",
       "      <th>1</th>\n",
       "      <td>2</td>\n",
       "      <td>ANAHEIM DUCKS</td>\n",
       "      <td>Away</td>\n",
       "    </tr>\n",
       "    <tr>\n",
       "      <th>2</th>\n",
       "      <td>3</td>\n",
       "      <td>LOS ANGELES KINGS</td>\n",
       "      <td>Away</td>\n",
       "    </tr>\n",
       "    <tr>\n",
       "      <th>3</th>\n",
       "      <td>4</td>\n",
       "      <td>COLUMBUS BLUE JACKETS</td>\n",
       "      <td>Home</td>\n",
       "    </tr>\n",
       "    <tr>\n",
       "      <th>4</th>\n",
       "      <td>1</td>\n",
       "      <td>MINNESOTA WILD</td>\n",
       "      <td>Home</td>\n",
       "    </tr>\n",
       "    <tr>\n",
       "      <th>5</th>\n",
       "      <td>0</td>\n",
       "      <td>PHOENIX COYOTES</td>\n",
       "      <td>Home</td>\n",
       "    </tr>\n",
       "    <tr>\n",
       "      <th>6</th>\n",
       "      <td>0</td>\n",
       "      <td>WASHINGTON CAPITALS</td>\n",
       "      <td>Away</td>\n",
       "    </tr>\n",
       "    <tr>\n",
       "      <th>7</th>\n",
       "      <td>3</td>\n",
       "      <td>NEW YORK ISLANDERS</td>\n",
       "      <td>Away</td>\n",
       "    </tr>\n",
       "    <tr>\n",
       "      <th>8</th>\n",
       "      <td>1</td>\n",
       "      <td>NEW YORK RANGERS</td>\n",
       "      <td>Away</td>\n",
       "    </tr>\n",
       "    <tr>\n",
       "      <th>9</th>\n",
       "      <td>1</td>\n",
       "      <td>TAMPA BAY LIGHTNING</td>\n",
       "      <td>Away</td>\n",
       "    </tr>\n",
       "    <tr>\n",
       "      <th>10</th>\n",
       "      <td>1</td>\n",
       "      <td>ATLANTA THRASHERS</td>\n",
       "      <td>Away</td>\n",
       "    </tr>\n",
       "    <tr>\n",
       "      <th>11</th>\n",
       "      <td>1</td>\n",
       "      <td>PHILADELPHIA FLYERS</td>\n",
       "      <td>Away</td>\n",
       "    </tr>\n",
       "    <tr>\n",
       "      <th>12</th>\n",
       "      <td>0</td>\n",
       "      <td>LOS ANGELES KINGS</td>\n",
       "      <td>Home</td>\n",
       "    </tr>\n",
       "    <tr>\n",
       "      <th>13</th>\n",
       "      <td>0</td>\n",
       "      <td>COLORADO AVALANCHE</td>\n",
       "      <td>Home</td>\n",
       "    </tr>\n",
       "    <tr>\n",
       "      <th>14</th>\n",
       "      <td>2</td>\n",
       "      <td>CAROLINA HURRICANES</td>\n",
       "      <td>Away</td>\n",
       "    </tr>\n",
       "    <tr>\n",
       "      <th>15</th>\n",
       "      <td>1</td>\n",
       "      <td>COLUMBUS BLUE JACKETS</td>\n",
       "      <td>Away</td>\n",
       "    </tr>\n",
       "    <tr>\n",
       "      <th>16</th>\n",
       "      <td>1</td>\n",
       "      <td>DETROIT RED WINGS</td>\n",
       "      <td>Away</td>\n",
       "    </tr>\n",
       "    <tr>\n",
       "      <th>17</th>\n",
       "      <td>1</td>\n",
       "      <td>PITTSBURGH PENGUINS</td>\n",
       "      <td>Home</td>\n",
       "    </tr>\n",
       "    <tr>\n",
       "      <th>18</th>\n",
       "      <td>0</td>\n",
       "      <td>NASHVILLE PREDATORS</td>\n",
       "      <td>Home</td>\n",
       "    </tr>\n",
       "    <tr>\n",
       "      <th>19</th>\n",
       "      <td>0</td>\n",
       "      <td>DALLAS STARS</td>\n",
       "      <td>Home</td>\n",
       "    </tr>\n",
       "    <tr>\n",
       "      <th>20</th>\n",
       "      <td>1</td>\n",
       "      <td>ST. LOUIS BLUES</td>\n",
       "      <td>Away</td>\n",
       "    </tr>\n",
       "    <tr>\n",
       "      <th>21</th>\n",
       "      <td>1</td>\n",
       "      <td>CHICAGO BLACKHAWKS</td>\n",
       "      <td>Away</td>\n",
       "    </tr>\n",
       "    <tr>\n",
       "      <th>22</th>\n",
       "      <td>2</td>\n",
       "      <td>NASHVILLE PREDATORS</td>\n",
       "      <td>Away</td>\n",
       "    </tr>\n",
       "    <tr>\n",
       "      <th>23</th>\n",
       "      <td>4</td>\n",
       "      <td>PHILADELPHIA FLYERS</td>\n",
       "      <td>Home</td>\n",
       "    </tr>\n",
       "    <tr>\n",
       "      <th>24</th>\n",
       "      <td>2</td>\n",
       "      <td>ANAHEIM DUCKS</td>\n",
       "      <td>Away</td>\n",
       "    </tr>\n",
       "    <tr>\n",
       "      <th>25</th>\n",
       "      <td>1</td>\n",
       "      <td>CHICAGO BLACKHAWKS</td>\n",
       "      <td>Home</td>\n",
       "    </tr>\n",
       "    <tr>\n",
       "      <th>26</th>\n",
       "      <td>3</td>\n",
       "      <td>EDMONTON OILERS</td>\n",
       "      <td>Away</td>\n",
       "    </tr>\n",
       "    <tr>\n",
       "      <th>27</th>\n",
       "      <td>1</td>\n",
       "      <td>VANCOUVER CANUCKS</td>\n",
       "      <td>Away</td>\n",
       "    </tr>\n",
       "    <tr>\n",
       "      <th>28</th>\n",
       "      <td>2</td>\n",
       "      <td>OTTAWA SENATORS</td>\n",
       "      <td>Home</td>\n",
       "    </tr>\n",
       "    <tr>\n",
       "      <th>29</th>\n",
       "      <td>1</td>\n",
       "      <td>ST. LOUIS BLUES</td>\n",
       "      <td>Home</td>\n",
       "    </tr>\n",
       "    <tr>\n",
       "      <th>...</th>\n",
       "      <td>...</td>\n",
       "      <td>...</td>\n",
       "      <td>...</td>\n",
       "    </tr>\n",
       "    <tr>\n",
       "      <th>49</th>\n",
       "      <td>1</td>\n",
       "      <td>CALGARY FLAMES</td>\n",
       "      <td>Home</td>\n",
       "    </tr>\n",
       "    <tr>\n",
       "      <th>50</th>\n",
       "      <td>0</td>\n",
       "      <td>LOS ANGELES KINGS</td>\n",
       "      <td>Away</td>\n",
       "    </tr>\n",
       "    <tr>\n",
       "      <th>51</th>\n",
       "      <td>2</td>\n",
       "      <td>ANAHEIM DUCKS</td>\n",
       "      <td>Home</td>\n",
       "    </tr>\n",
       "    <tr>\n",
       "      <th>52</th>\n",
       "      <td>1</td>\n",
       "      <td>BUFFALO SABRES</td>\n",
       "      <td>Home</td>\n",
       "    </tr>\n",
       "    <tr>\n",
       "      <th>53</th>\n",
       "      <td>0</td>\n",
       "      <td>CHICAGO BLACKHAWKS</td>\n",
       "      <td>Home</td>\n",
       "    </tr>\n",
       "    <tr>\n",
       "      <th>54</th>\n",
       "      <td>1</td>\n",
       "      <td>MINNESOTA WILD</td>\n",
       "      <td>Home</td>\n",
       "    </tr>\n",
       "    <tr>\n",
       "      <th>55</th>\n",
       "      <td>2</td>\n",
       "      <td>DETROIT RED WINGS</td>\n",
       "      <td>Home</td>\n",
       "    </tr>\n",
       "    <tr>\n",
       "      <th>56</th>\n",
       "      <td>1</td>\n",
       "      <td>ST. LOUIS BLUES</td>\n",
       "      <td>Away</td>\n",
       "    </tr>\n",
       "    <tr>\n",
       "      <th>57</th>\n",
       "      <td>2</td>\n",
       "      <td>NASHVILLE PREDATORS</td>\n",
       "      <td>Away</td>\n",
       "    </tr>\n",
       "    <tr>\n",
       "      <th>58</th>\n",
       "      <td>1</td>\n",
       "      <td>TORONTO MAPLE LEAFS</td>\n",
       "      <td>Away</td>\n",
       "    </tr>\n",
       "    <tr>\n",
       "      <th>59</th>\n",
       "      <td>0</td>\n",
       "      <td>COLUMBUS BLUE JACKETS</td>\n",
       "      <td>Away</td>\n",
       "    </tr>\n",
       "    <tr>\n",
       "      <th>60</th>\n",
       "      <td>1</td>\n",
       "      <td>DETROIT RED WINGS</td>\n",
       "      <td>Away</td>\n",
       "    </tr>\n",
       "    <tr>\n",
       "      <th>61</th>\n",
       "      <td>0</td>\n",
       "      <td>BUFFALO SABRES</td>\n",
       "      <td>Away</td>\n",
       "    </tr>\n",
       "    <tr>\n",
       "      <th>62</th>\n",
       "      <td>1</td>\n",
       "      <td>NEW JERSEY DEVILS</td>\n",
       "      <td>Home</td>\n",
       "    </tr>\n",
       "    <tr>\n",
       "      <th>63</th>\n",
       "      <td>0</td>\n",
       "      <td>CANADIENS MONTREAL</td>\n",
       "      <td>Home</td>\n",
       "    </tr>\n",
       "    <tr>\n",
       "      <th>64</th>\n",
       "      <td>1</td>\n",
       "      <td>COLUMBUS BLUE JACKETS</td>\n",
       "      <td>Home</td>\n",
       "    </tr>\n",
       "    <tr>\n",
       "      <th>65</th>\n",
       "      <td>2</td>\n",
       "      <td>NASHVILLE PREDATORS</td>\n",
       "      <td>Home</td>\n",
       "    </tr>\n",
       "    <tr>\n",
       "      <th>66</th>\n",
       "      <td>0</td>\n",
       "      <td>FLORIDA PANTHERS</td>\n",
       "      <td>Home</td>\n",
       "    </tr>\n",
       "    <tr>\n",
       "      <th>67</th>\n",
       "      <td>1</td>\n",
       "      <td>ANAHEIM DUCKS</td>\n",
       "      <td>Away</td>\n",
       "    </tr>\n",
       "    <tr>\n",
       "      <th>68</th>\n",
       "      <td>1</td>\n",
       "      <td>DALLAS STARS</td>\n",
       "      <td>Away</td>\n",
       "    </tr>\n",
       "    <tr>\n",
       "      <th>69</th>\n",
       "      <td>0</td>\n",
       "      <td>VANCOUVER CANUCKS</td>\n",
       "      <td>Away</td>\n",
       "    </tr>\n",
       "    <tr>\n",
       "      <th>70</th>\n",
       "      <td>1</td>\n",
       "      <td>CALGARY FLAMES</td>\n",
       "      <td>Away</td>\n",
       "    </tr>\n",
       "    <tr>\n",
       "      <th>71</th>\n",
       "      <td>1</td>\n",
       "      <td>EDMONTON OILERS</td>\n",
       "      <td>Away</td>\n",
       "    </tr>\n",
       "    <tr>\n",
       "      <th>72</th>\n",
       "      <td>1</td>\n",
       "      <td>MINNESOTA WILD</td>\n",
       "      <td>Away</td>\n",
       "    </tr>\n",
       "    <tr>\n",
       "      <th>73</th>\n",
       "      <td>1</td>\n",
       "      <td>DALLAS STARS</td>\n",
       "      <td>Home</td>\n",
       "    </tr>\n",
       "    <tr>\n",
       "      <th>74</th>\n",
       "      <td>0</td>\n",
       "      <td>VANCOUVER CANUCKS</td>\n",
       "      <td>Home</td>\n",
       "    </tr>\n",
       "    <tr>\n",
       "      <th>75</th>\n",
       "      <td>2</td>\n",
       "      <td>COLORADO AVALANCHE</td>\n",
       "      <td>Away</td>\n",
       "    </tr>\n",
       "    <tr>\n",
       "      <th>76</th>\n",
       "      <td>0</td>\n",
       "      <td>CALGARY FLAMES</td>\n",
       "      <td>Away</td>\n",
       "    </tr>\n",
       "    <tr>\n",
       "      <th>77</th>\n",
       "      <td>1</td>\n",
       "      <td>VANCOUVER CANUCKS</td>\n",
       "      <td>Home</td>\n",
       "    </tr>\n",
       "    <tr>\n",
       "      <th>78</th>\n",
       "      <td>1</td>\n",
       "      <td>PHOENIX COYOTES</td>\n",
       "      <td>Home</td>\n",
       "    </tr>\n",
       "  </tbody>\n",
       "</table>\n",
       "<p>79 rows × 3 columns</p>\n",
       "</div>"
      ],
      "text/plain": [
       "    Points                Vs_Team Home/Away\n",
       "0        0     COLORADO AVALANCHE      Away\n",
       "1        2          ANAHEIM DUCKS      Away\n",
       "2        3      LOS ANGELES KINGS      Away\n",
       "3        4  COLUMBUS BLUE JACKETS      Home\n",
       "4        1         MINNESOTA WILD      Home\n",
       "5        0        PHOENIX COYOTES      Home\n",
       "6        0    WASHINGTON CAPITALS      Away\n",
       "7        3     NEW YORK ISLANDERS      Away\n",
       "8        1       NEW YORK RANGERS      Away\n",
       "9        1    TAMPA BAY LIGHTNING      Away\n",
       "10       1      ATLANTA THRASHERS      Away\n",
       "11       1    PHILADELPHIA FLYERS      Away\n",
       "12       0      LOS ANGELES KINGS      Home\n",
       "13       0     COLORADO AVALANCHE      Home\n",
       "14       2    CAROLINA HURRICANES      Away\n",
       "15       1  COLUMBUS BLUE JACKETS      Away\n",
       "16       1      DETROIT RED WINGS      Away\n",
       "17       1    PITTSBURGH PENGUINS      Home\n",
       "18       0    NASHVILLE PREDATORS      Home\n",
       "19       0           DALLAS STARS      Home\n",
       "20       1        ST. LOUIS BLUES      Away\n",
       "21       1     CHICAGO BLACKHAWKS      Away\n",
       "22       2    NASHVILLE PREDATORS      Away\n",
       "23       4    PHILADELPHIA FLYERS      Home\n",
       "24       2          ANAHEIM DUCKS      Away\n",
       "25       1     CHICAGO BLACKHAWKS      Home\n",
       "26       3        EDMONTON OILERS      Away\n",
       "27       1      VANCOUVER CANUCKS      Away\n",
       "28       2        OTTAWA SENATORS      Home\n",
       "29       1        ST. LOUIS BLUES      Home\n",
       "..     ...                    ...       ...\n",
       "49       1         CALGARY FLAMES      Home\n",
       "50       0      LOS ANGELES KINGS      Away\n",
       "51       2          ANAHEIM DUCKS      Home\n",
       "52       1         BUFFALO SABRES      Home\n",
       "53       0     CHICAGO BLACKHAWKS      Home\n",
       "54       1         MINNESOTA WILD      Home\n",
       "55       2      DETROIT RED WINGS      Home\n",
       "56       1        ST. LOUIS BLUES      Away\n",
       "57       2    NASHVILLE PREDATORS      Away\n",
       "58       1    TORONTO MAPLE LEAFS      Away\n",
       "59       0  COLUMBUS BLUE JACKETS      Away\n",
       "60       1      DETROIT RED WINGS      Away\n",
       "61       0         BUFFALO SABRES      Away\n",
       "62       1      NEW JERSEY DEVILS      Home\n",
       "63       0     CANADIENS MONTREAL      Home\n",
       "64       1  COLUMBUS BLUE JACKETS      Home\n",
       "65       2    NASHVILLE PREDATORS      Home\n",
       "66       0       FLORIDA PANTHERS      Home\n",
       "67       1          ANAHEIM DUCKS      Away\n",
       "68       1           DALLAS STARS      Away\n",
       "69       0      VANCOUVER CANUCKS      Away\n",
       "70       1         CALGARY FLAMES      Away\n",
       "71       1        EDMONTON OILERS      Away\n",
       "72       1         MINNESOTA WILD      Away\n",
       "73       1           DALLAS STARS      Home\n",
       "74       0      VANCOUVER CANUCKS      Home\n",
       "75       2     COLORADO AVALANCHE      Away\n",
       "76       0         CALGARY FLAMES      Away\n",
       "77       1      VANCOUVER CANUCKS      Home\n",
       "78       1        PHOENIX COYOTES      Home\n",
       "\n",
       "[79 rows x 3 columns]"
      ]
     },
     "execution_count": 3,
     "metadata": {},
     "output_type": "execute_result"
    }
   ],
   "source": [
    "jt_points = pd.read_csv('joe_thornton_points_summary.csv')\n",
    "jt_points"
   ]
  },
  {
   "cell_type": "code",
   "execution_count": 5,
   "metadata": {},
   "outputs": [],
   "source": [
    "import matplotlib.mlab as mlab\n",
    "import matplotlib.pyplot as plt"
   ]
  },
  {
   "cell_type": "code",
   "execution_count": 43,
   "metadata": {},
   "outputs": [
    {
     "data": {
      "image/png": "[encoded data removed]",
      "text/plain": [
       "<Figure size 432x288 with 1 Axes>"
      ]
     },
     "metadata": {
      "needs_background": "light"
     },
     "output_type": "display_data"
    }
   ],
   "source": [
    "plt.hist(jt_points['Points'], bins=4, histtype='bar', ec='black', color ='red')\n",
    "plt.xticks(jt_points['Points'])\n",
    "plt.xlabel('Points')\n",
    "plt.ylabel('Count')\n",
    "plt.title('Joe Thornton Points distribution in 2009-2010 season')\n",
    "plt.show()"
   ]
  },
  {
   "cell_type": "code",
   "execution_count": 32,
   "metadata": {},
   "outputs": [
    {
     "data": {
      "text/plain": [
       "Points       4\n",
       "Vs_Team      4\n",
       "Home/Away    4\n",
       "dtype: int64"
      ]
     },
     "execution_count": 32,
     "metadata": {},
     "output_type": "execute_result"
    }
   ],
   "source": [
    "jt_points[jt_points['Points'] == 3].count()"
   ]
  },
  {
   "cell_type": "code",
   "execution_count": 36,
   "metadata": {},
   "outputs": [],
   "source": [
    "playoff_teams = ['Washington Capitals', 'Montreal Canadiens', 'New Jersey Devils', 'Philadelphia Flyers',\n",
    "                     'Buffalo Sabres', 'Boston Bruins', 'Pittsburgh Penguins', 'Ottawa Senators',\n",
    "                     'Colorado Avalanche', 'Chicago Blackhawks', 'Nashville Predators', 'Vancouver Canucks',\n",
    "                     'Los Angeles Kings', 'Phoenix Coyotes', 'Detroit Red Wings']\n",
    "playoff_teams = list(map(lambda x: x.upper(), playoff_teams))"
   ]
  },
  {
   "cell_type": "code",
   "execution_count": 49,
   "metadata": {},
   "outputs": [
    {
     "data": {
      "text/plain": [
       "Points       41\n",
       "Vs_Team      41\n",
       "Home/Away    41\n",
       "dtype: int64"
      ]
     },
     "execution_count": 49,
     "metadata": {},
     "output_type": "execute_result"
    }
   ],
   "source": [
    "#making a dataframe of Joe Thronton's games against Playoff teams\n",
    "jt_points_vs_po_teams = jt_points[jt_points['Vs_Team'].isin(playoff_teams)]\n",
    "jt_points_vs_po_teams.count()"
   ]
  },
  {
   "cell_type": "code",
   "execution_count": 53,
   "metadata": {},
   "outputs": [
    {
     "data": {
      "text/plain": [
       "Points       38\n",
       "Vs_Team      38\n",
       "Home/Away    38\n",
       "dtype: int64"
      ]
     },
     "execution_count": 53,
     "metadata": {},
     "output_type": "execute_result"
    }
   ],
   "source": [
    "#making a dataframe of Joe Thronton's games against Non-Playoff teams\n",
    "jt_points_vs_nonpo_teams = jt_points[~jt_points['Vs_Team'].isin(playoff_teams)]\n",
    "jt_points_vs_nonpo_teams.count()"
   ]
  },
  {
   "cell_type": "code",
   "execution_count": 55,
   "metadata": {},
   "outputs": [
    {
     "data": {
      "image/png": "[encoded data removed]",
      "text/plain": [
       "<Figure size 432x288 with 1 Axes>"
      ]
     },
     "metadata": {
      "needs_background": "light"
     },
     "output_type": "display_data"
    }
   ],
   "source": [
    "plt.hist(jt_points_vs_po_teams['Points'], bins=4, histtype='bar', ec='black', color ='green')\n",
    "plt.xticks(jt_points_vs_po_teams['Points'])\n",
    "plt.xlabel('Points')\n",
    "plt.ylabel('Count')\n",
    "plt.title('Joe Thornton Points distribution vs Playoff Teams in 2009-2010 season')\n",
    "plt.show()"
   ]
  },
  {
   "cell_type": "code",
   "execution_count": 56,
   "metadata": {},
   "outputs": [
    {
     "data": {
      "image/png": "[encoded data removed]",
      "text/plain": [
       "<Figure size 432x288 with 1 Axes>"
      ]
     },
     "metadata": {
      "needs_background": "light"
     },
     "output_type": "display_data"
    }
   ],
   "source": [
    "plt.hist(jt_points_vs_nonpo_teams['Points'], bins=4, histtype='bar', ec='black', color ='blue')\n",
    "plt.xticks(jt_points_vs_nonpo_teams['Points'])\n",
    "plt.xlabel('Points')\n",
    "plt.ylabel('Count')\n",
    "plt.title('Joe Thornton Points distribution vs Non-Playoff Teams in 2009-2010 season')\n",
    "plt.show()"
   ]
  },
  {
   "cell_type": "code",
   "execution_count": 92,
   "metadata": {},
   "outputs": [
    {
     "data": {
      "text/plain": [
       "(79, 3)"
      ]
     },
     "execution_count": 92,
     "metadata": {},
     "output_type": "execute_result"
    }
   ],
   "source": [
    "jt_points.shape"
   ]
  },
  {
   "cell_type": "code",
   "execution_count": 67,
   "metadata": {},
   "outputs": [
    {
     "data": {
      "text/plain": [
       "1.1265822784810127"
      ]
     },
     "execution_count": 67,
     "metadata": {},
     "output_type": "execute_result"
    }
   ],
   "source": [
    "#Getting his overall points per game\n",
    "jt_ppg = jt_points['Points'].sum()/jt_points.shape[0]\n",
    "jt_ppg"
   ]
  },
  {
   "cell_type": "code",
   "execution_count": 70,
   "metadata": {},
   "outputs": [
    {
     "data": {
      "text/plain": [
       "0.975609756097561"
      ]
     },
     "execution_count": 70,
     "metadata": {},
     "output_type": "execute_result"
    }
   ],
   "source": [
    "#Getting his points per game against teams who made the playoffs\n",
    "jt_ppg_vs_po_teams = jt_points_vs_po_teams['Points'].sum()/jt_points_vs_po_teams.shape[0]\n",
    "jt_ppg_vs_po_teams"
   ]
  },
  {
   "cell_type": "code",
   "execution_count": 71,
   "metadata": {},
   "outputs": [
    {
     "data": {
      "text/plain": [
       "1.2894736842105263"
      ]
     },
     "execution_count": 71,
     "metadata": {},
     "output_type": "execute_result"
    }
   ],
   "source": [
    "#Getting his points per game against teams didn't make the playoffs\n",
    "jt_ppg_vs_nonpo_teams = jt_points_vs_nonpo_teams['Points'].sum()/jt_points_vs_nonpo_teams.shape[0]\n",
    "jt_ppg_vs_nonpo_teams"
   ]
  },
  {
   "cell_type": "code",
   "execution_count": 77,
   "metadata": {},
   "outputs": [
    {
     "data": {
      "text/plain": [
       "0.8"
      ]
     },
     "execution_count": 77,
     "metadata": {},
     "output_type": "execute_result"
    }
   ],
   "source": [
    "#In the 2009-2010 season Joe Thornton had 12 points in 15 games in the playoffs\n",
    "12/15"
   ]
  },
  {
   "cell_type": "code",
   "execution_count": 78,
   "metadata": {},
   "outputs": [],
   "source": [
    "import random"
   ]
  },
  {
   "cell_type": "code",
   "execution_count": 95,
   "metadata": {},
   "outputs": [
    {
     "data": {
      "text/plain": [
       "[(0, 0.34146341463414637),\n",
       " (3, 0.024390243902439025),\n",
       " (1, 0.4146341463414634),\n",
       " (2, 0.1951219512195122),\n",
       " (4, 0.024390243902439025)]"
      ]
     },
     "execution_count": 95,
     "metadata": {},
     "output_type": "execute_result"
    }
   ],
   "source": [
    "# Create a weighted probability of how likely Joe Thronton was to amass a certain number of points vs a playoff team\n",
    "# Then randomly pick those to see how often he ends around 0.8 PPG in 15 games vs playoff teams\n",
    "\n",
    "unique_points = jt_points_vs_po_teams['Points'].unique()\n",
    "points_occurences = []\n",
    "#Count the occurrences of each unique point total and then divide it by the total amount of games played against \n",
    "#PO teams\n",
    "for i in unique_points:\n",
    "    occur_rate = jt_points_vs_po_teams[jt_points_vs_po_teams['Points'] == i].shape[0]/jt_points_vs_po_teams.shape[0]\n",
    "    points_occurences.append((i,occur_rate))\n",
    "    \n",
    "    \n",
    "points_occurences"
   ]
  },
  {
   "cell_type": "code",
   "execution_count": 114,
   "metadata": {},
   "outputs": [
    {
     "data": {
      "text/plain": [
       "[0, 3, 1, 2, 4]"
      ]
     },
     "execution_count": 114,
     "metadata": {},
     "output_type": "execute_result"
    }
   ],
   "source": [
    "POPULATION = [x[0] for x in points_occurences]\n",
    "POPULATION"
   ]
  },
  {
   "cell_type": "code",
   "execution_count": 100,
   "metadata": {},
   "outputs": [
    {
     "data": {
      "text/plain": [
       "[0.34146341463414637,\n",
       " 0.024390243902439025,\n",
       " 0.4146341463414634,\n",
       " 0.1951219512195122,\n",
       " 0.024390243902439025]"
      ]
     },
     "execution_count": 100,
     "metadata": {},
     "output_type": "execute_result"
    }
   ],
   "source": [
    "WEIGHTS = [x[1] for x in points_occurences]\n",
    "WEIGHTS"
   ]
  },
  {
   "cell_type": "code",
   "execution_count": 140,
   "metadata": {},
   "outputs": [
    {
     "data": {
      "text/plain": [
       "[1, 0, 0, 4, 0, 0, 2, 1, 2, 1, 1, 3, 1, 1, 1]"
      ]
     },
     "execution_count": 140,
     "metadata": {},
     "output_type": "execute_result"
    }
   ],
   "source": [
    "#Randomly choosing point totals for 15 games(k=15) using our weighted probabilties \n",
    "# k=15 because Thornton played 15 games in the playoffs in the 09-10 season\n",
    "random.choices(population=POPULATION, weights=WEIGHTS, k=15)\n",
    "#It returns a list of the point totals in each of the individual 15 games"
   ]
  },
  {
   "cell_type": "code",
   "execution_count": 177,
   "metadata": {},
   "outputs": [],
   "source": [
    "#Repeating the above 300 times (we could do it more but I just chose a 300) and collecting the sum (point total) each time\n",
    "point_total = []\n",
    "for i in range(300):\n",
    "    x = sum(random.choices(population=POPULATION, weights=WEIGHTS, k=15))\n",
    "    point_total.append(x)"
   ]
  },
  {
   "cell_type": "code",
   "execution_count": 178,
   "metadata": {},
   "outputs": [
    {
     "data": {
      "text/plain": [
       "14.633333333333333"
      ]
     },
     "execution_count": 178,
     "metadata": {},
     "output_type": "execute_result"
    }
   ],
   "source": [
    "#Finding out the mean of the point totals that were generated randomly \n",
    "point_total = np.array(point_total)\n",
    "point_total.mean()"
   ]
  },
  {
   "cell_type": "code",
   "execution_count": 179,
   "metadata": {},
   "outputs": [
    {
     "data": {
      "image/png": "[encoded data removed]",
      "text/plain": [
       "<Figure size 432x288 with 1 Axes>"
      ]
     },
     "metadata": {
      "needs_background": "light"
     },
     "output_type": "display_data"
    }
   ],
   "source": [
    "#Histogram of the randomly generated point totals\n",
    "plt.hist(point_total, bins=4, histtype='bar', ec='black', color ='grey')\n",
    "plt.xlabel('Points')\n",
    "plt.ylabel('Count')\n",
    "plt.title('Joe Thornton randomly generated point totals using weighted probabilties over 15 games')\n",
    "plt.show()"
   ]
  },
  {
   "cell_type": "code",
   "execution_count": 191,
   "metadata": {},
   "outputs": [
    {
     "data": {
      "text/plain": [
       "85"
      ]
     },
     "execution_count": 191,
     "metadata": {},
     "output_type": "execute_result"
    }
   ],
   "source": [
    "#Getting how many occurences of where there was at most 12 points in 15 games \n",
    "#(point_total <= 12) returns a boolean table, and when you sum it all the True Values are added up\n",
    "#Because True = 1 and False = 0\n",
    "(point_total <= 12).sum()"
   ]
  },
  {
   "cell_type": "code",
   "execution_count": 200,
   "metadata": {},
   "outputs": [
    {
     "data": {
      "text/plain": [
       "300"
      ]
     },
     "execution_count": 200,
     "metadata": {},
     "output_type": "execute_result"
    }
   ],
   "source": [
    "point_total.size"
   ]
  },
  {
   "cell_type": "code",
   "execution_count": 201,
   "metadata": {},
   "outputs": [
    {
     "data": {
      "text/plain": [
       "0.2833333333333333"
      ]
     },
     "execution_count": 201,
     "metadata": {},
     "output_type": "execute_result"
    }
   ],
   "source": [
    "(point_total <= 12).sum()/point_total.size"
   ]
  },
  {
   "cell_type": "markdown",
   "metadata": {},
   "source": [
    "We get back a 28% chance of getting a point total below or equivalent to 12 points in 15 games over a 300 size sample using his weighted point probabilties against playoff teams. This is pretty high so it shouldn't be that much of a surprise for Joe Thornton to only score that much. So even though this is well below his 92 point pace during that regular season -- we can see here that his point production in the playoffs that season is still somewhat in line of his regular season point production."
   ]
  },
  {
   "cell_type": "code",
   "execution_count": null,
   "metadata": {},
   "outputs": [],
   "source": []
  }
 ],
 "metadata": {
  "kernelspec": {
   "display_name": "Python 3",
   "language": "python",
   "name": "python3"
  },
  "language_info": {
   "codemirror_mode": {
    "name": "ipython",
    "version": 3
   },
   "file_extension": ".py",
   "mimetype": "text/x-python",
   "name": "python",
   "nbconvert_exporter": "python",
   "pygments_lexer": "ipython3",
   "version": "3.7.6"
  }
 },
 "nbformat": 4,
 "nbformat_minor": 2
}
